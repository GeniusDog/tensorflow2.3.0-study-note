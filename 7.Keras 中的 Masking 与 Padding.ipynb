{
 "cells": [
  {
   "cell_type": "raw",
   "id": "e995d5bf",
   "metadata": {},
   "source": [
    "小结：\n",
    "   机器学习中的 Mask 与 Padding 是两个经常会使用到的概念，而之前我们也接触到一部分，那就是在我们进行文本分类的时候曾经接触过 Padding。而这节课我们就来详细了解一下 Masking 与 Padding 的概念以及基本的用法。\n",
    "   在这节课之中，我们学习了如何进行Padding，也学习到了如何设置Mask。这两种操作互相结合可以使得我们的处理序列的模型的精确度和准确率有很大的提升。\n",
    "   1. 基本概念\n",
    "   虽然 Mask（遮掩）和 Padding（填充）这两个概念看上去似乎很难理解，但是他他们的作用却很简单。简单来说，Mask与Padding的作用分别是：\n",
    "   Padding：将本来不相同的样本填充到相同的长度，以便于后面的处理，我们一般使用0做填充；\n",
    "   Mask：告诉网络层那些是真正的数据，哪些是填充的“0”，从而帮助网络层更好地计算。\n",
    "简单举例，下面是我们的三个文本："
   ]
  },
  {
   "cell_type": "code",
   "execution_count": null,
   "id": "000eb71a",
   "metadata": {},
   "outputs": [],
   "source": [
    "# 下面是我们的三个文本：\n",
    "[\n",
    "    ['Hello', 'Hi'],\n",
    "    ['Who', 'are', 'you'],\n",
    "    ['what', 'time', 'is', 'it', 'now']\n",
    "]\n",
    "\n",
    "# 假设我们将其编码之后得到的向量为：\n",
    "[\n",
    "    [1, 2],\n",
    "    [3, 4, 5],\n",
    "    [6, 7, 8, 9, 10]\n",
    "]\n",
    "\n",
    "# 于是我们将这三个张量填充到共同长度——5： 在文本数据中要定长数据\n",
    "[\n",
    "    [1, 2, 0, 0, 0],\n",
    "    [3, 4, 5, 0, 0],\n",
    "    [6, 7, 8, 9, 10]\n",
    "]\n",
    "\n",
    "# 经过填充之后我们得到了三个长度相同的向量\n",
    "# 于是我们可以计算出mask来告诉网络哪些数据是填充的，哪些数据是真实的数据。\n",
    "# 于是我们得到了该向量的Mask：\n",
    "[\n",
    "    [True, True, False, False, False],\n",
    "    [True, True, True,  False, False],\n",
    "    [True, True, True,  True,  True ]\n",
    "]\n"
   ]
  },
  {
   "cell_type": "raw",
   "id": "43ec3436",
   "metadata": {},
   "source": [
    "   通过上面的例子相信大家可以清楚的了解到机器学习中Mask与Padding的概念。下面我们可以看一下在TesnorFlow之中如何使用这两者吧。\n",
    "\n",
    "2. TensorFlow 中的 Padding\n",
    "在TensorFlow之中，我们最常使用的方法是采用预处理的方式进行序列的Padding，就像我们在文本分类中所做的那样。\n",
    "\n",
    "下面是一个简单的示例："
   ]
  },
  {
   "cell_type": "code",
   "execution_count": null,
   "id": "04767d21",
   "metadata": {},
   "outputs": [],
   "source": [
    "import tensorflow as tf\n",
    "\n",
    "inputs = [\n",
    "    [1, 2],\n",
    "    [3, 4, 5],\n",
    "    [6, 7, 8, 9, 10]\n",
    "]\n",
    "\n",
    "inputs = tf.keras.preprocessing.sequence.pad_sequences(\n",
    "    raw_inputs, padding=\"post\", value=0\n",
    ")\n",
    "print(inputs)\n"
   ]
  },
  {
   "cell_type": "raw",
   "id": "cd731cfc",
   "metadata": {},
   "source": [
    "于是我们可以得到输出：\n",
    "\n",
    "[[ 1  2  0  0  0]\n",
    " [ 3  4  5  0  0]\n",
    " [ 6  7  8  9 10]]\n",
    " 以上就是TensorFlow中进行填充最常用的方法。\n",
    " \n",
    " raw_inputs：我们要处理的、编码后的数据；\n",
    " value：用来填充文本的数字，一般我们使用0即可；\n",
    " padding：填充的模式，post 表示填充的 value 位置在原文之后。\n",
    " \n",
    " 3. TensorFlow 中的 Mask\n",
    "在TensorFlow之中使用Mask也是比较简单的，主要有两种方法：\n",
    "a.添加一个tf.keras.layers.Embedding层并设置参数mask_zero=True；\n",
    "b.添加一个tf.keras.layers.Masking层。\n",
    "这里我们使用之前的文本分类的模型作为例子来进行演示。值得注意的是，在很多情况之下，如果我们不使用Mask，那么模型依然会继续运行，但是采用Mask会让模型更加精确。\n",
    "\n",
    "我们原来的网络为："
   ]
  },
  {
   "cell_type": "code",
   "execution_count": null,
   "id": "3dac3ba1",
   "metadata": {},
   "outputs": [],
   "source": [
    "model = tf.keras.Sequential([\n",
    "    tf.keras.layers.Embedding(10000, 32),\n",
    "    tf.keras.layers.GlobalAveragePooling1D(),\n",
    "    tf.keras.layers.Dense(64, activation='relu'),\n",
    "    tf.keras.layers.Dense(1, activation='sigmoid')\n",
    "])\n",
    "model.summary()\n"
   ]
  },
  {
   "cell_type": "raw",
   "id": "f4ac90b6",
   "metadata": {},
   "source": [
    "我们可以查看到模型的结构为：\n",
    "Model: \"sequential\"\n",
    "_________________________________________________________________\n",
    "Layer (type)                 Output Shape              Param #   \n",
    "=================================================================\n",
    "embedding (Embedding)        (None, None, 32)          320000    \n",
    "_________________________________________________________________\n",
    "global_average_pooling1d (Gl (None, 32)                0         \n",
    "_________________________________________________________________\n",
    "dense (Dense)                (None, 64)                2112      \n",
    "_________________________________________________________________\n",
    "dense_1 (Dense)              (None, 1)                 65        \n",
    "=================================================================\n",
    "Total params: 322,177\n",
    "Trainable params: 322,177\n",
    "Non-trainable params: 0\n",
    "_________________________________________________________________\n",
    "\n",
    "1. 使用tf.keras.layers.Embedding层并设置mask_zero=True\n",
    "因为我们已经使用了Embedding，因此我们只需要直接设置参数mask_zero=True即可："
   ]
  },
  {
   "cell_type": "code",
   "execution_count": null,
   "id": "fa13268d",
   "metadata": {},
   "outputs": [],
   "source": [
    "model2 = tf.keras.Sequential([\n",
    "    tf.keras.layers.Embedding(10000, 32, mask_zero=True),\n",
    "    tf.keras.layers.GlobalAveragePooling1D(),\n",
    "    tf.keras.layers.Dense(64, activation='relu'),\n",
    "    tf.keras.layers.Dense(1, activation='sigmoid')\n",
    "])\n",
    "model2.summary()\n"
   ]
  },
  {
   "cell_type": "raw",
   "id": "a6d05d4e",
   "metadata": {},
   "source": [
    "于是我们可以看到网络的结构：\n",
    "Model: \"sequential_2\"\n",
    "_________________________________________________________________\n",
    "Layer (type)                 Output Shape              Param #   \n",
    "=================================================================\n",
    "embedding_2 (Embedding)      (None, None, 32)          320000    \n",
    "_________________________________________________________________\n",
    "global_average_pooling1d_2 ( (None, 32)                0         \n",
    "_________________________________________________________________\n",
    "dense_4 (Dense)              (None, 64)                2112      \n",
    "_________________________________________________________________\n",
    "dense_5 (Dense)              (None, 1)                 65        \n",
    "=================================================================\n",
    "Total params: 322,177\n",
    "Trainable params: 322,177\n",
    "Non-trainable params: 0\n",
    "_________________________________________________________________\n",
    "我们可以发现网络的结构没有发生变化，为了验证该Mask已经生效，于是我们可以进行测试：\n"
   ]
  },
  {
   "cell_type": "code",
   "execution_count": null,
   "id": "0d053e9d",
   "metadata": {},
   "outputs": [],
   "source": [
    "print(model(inputs))\n",
    "print(model2(inputs))"
   ]
  },
  {
   "cell_type": "raw",
   "id": "f72f96d9",
   "metadata": {},
   "source": [
    "我们可以通过输出看到，我们设置的遮掩（Mask）已经生效：\n",
    "tf.Tensor(\n",
    "[[0.5014145 ]\n",
    " [0.50220466]\n",
    " [0.5058755 ]], shape=(3, 1), dtype=float32)\n",
    "\n",
    "tf.Tensor(\n",
    "[[0.4913409 ]\n",
    " [0.49880138]\n",
    " [0.49782944]], shape=(3, 1), dtype=float32)\n",
    " \n",
    "2. 使用tf.keras.layers.Masking层\n",
    "我们依然以我们的文本分类模型为例，为了添加Masking层，我们将模型进行如下修改： \n"
   ]
  },
  {
   "cell_type": "code",
   "execution_count": null,
   "id": "0ed73e80",
   "metadata": {},
   "outputs": [],
   "source": [
    "# Masking要在Embedding之前\n",
    "model3 = tf.keras.Sequential([\n",
    "    tf.keras.layers.Masking(input_shape=(256,)),\n",
    "    tf.keras.layers.Embedding(10000, 32),\n",
    "    tf.keras.layers.GlobalAveragePooling1D(),\n",
    "    tf.keras.layers.Dense(64, activation='relu'),\n",
    "    tf.keras.layers.Dense(1, activation='sigmoid')\n",
    "])\n",
    "model3.summary()\n"
   ]
  },
  {
   "cell_type": "raw",
   "id": "bc8b31c1",
   "metadata": {},
   "source": [
    "   在该模型之中，因为Masking层是位于第一层，因此我们要设置参数input_shape，这里的参数（256，）表示的是我们的每条数据都是padding长度为256的序列。\n",
    "   于是我们可以得到输出：\n",
    "   Model: \"sequential_10\"\n",
    "    _________________________________________________________________\n",
    "    Layer (type)                 Output Shape              Param #   \n",
    "    =================================================================\n",
    "    masking_5 (Masking)          (None, 256)               0         \n",
    "    _________________________________________________________________\n",
    "    embedding_10 (Embedding)     (None, 256, 32)           320000    \n",
    "    _________________________________________________________________\n",
    "    global_average_pooling1d_10  (None, 32)                0         \n",
    "    _________________________________________________________________\n",
    "    dense_20 (Dense)             (None, 64)                2112      \n",
    "    _________________________________________________________________\n",
    "    dense_21 (Dense)             (None, 1)                 65        \n",
    "    =================================================================\n",
    "    Total params: 322,177\n",
    "    Trainable params: 322,177\n",
    "    Non-trainable params: 0\n",
    "    _________________________________________________________________\n",
    "    由此可以看到，虽然masking层没有参数，但是它确实作为一个网络层包含进了网络。\n"
   ]
  }
 ],
 "metadata": {
  "kernelspec": {
   "display_name": "Python 3 (ipykernel)",
   "language": "python",
   "name": "python3"
  },
  "language_info": {
   "codemirror_mode": {
    "name": "ipython",
    "version": 3
   },
   "file_extension": ".py",
   "mimetype": "text/x-python",
   "name": "python",
   "nbconvert_exporter": "python",
   "pygments_lexer": "ipython3",
   "version": "3.7.13"
  }
 },
 "nbformat": 4,
 "nbformat_minor": 5
}
