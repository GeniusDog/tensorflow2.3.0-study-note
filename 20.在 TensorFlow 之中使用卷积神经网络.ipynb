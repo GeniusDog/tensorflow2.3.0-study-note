{
 "cells": [
  {
   "cell_type": "raw",
   "id": "3f55522a",
   "metadata": {},
   "source": [
    "小结：\n",
    "    这节课之中我们学习了什么是卷积神经网络(CNN)，同时我们有具体的学习了什么是卷积层以及什么是池化层。于此同时我们对于其两着在 TensorFlow 之中的具体使用进行了详细的说明，最后我们实现了一个卷积神经网络，可以用于图像分类处理。\n",
    "    在之前的学习过程之中，我们已经使用过卷积神经网络，但是我们并没有真正的了解该网络的原理以及详细的使用规则。因此这节课我们便学习以下什么是卷积神经网络，并且了解如何在 TensorFlow 之中使用卷积神经网络。\n",
    "    1. 什么是卷积神经网络\n",
    "卷积神经网络，Convolutional Neural Network，简称 CNN ，是一种在图像领域最常使用的一种神经网络。\n",
    "    卷积神经网络总体来说可以分为三个部分：\n",
    "    a.卷积层：用于提取数据的特征；\n",
    "    b.池化层：对提取的特征的规模进行缩小，减少运算量；\n",
    "    c.全连接层：FC 层，在 TensorFlow 之中就是 Dense 层。\n",
    "    卷积层最常用的作用就是用来 “提取特征”，也就是将二维数据的 “特征” 提取出来，而我们最常使用的二维数据就是图片数据。\n",
    "\n",
    "    那么什么是特征？简单来说，特征就是数据中所包含的信息，我们对一个数据进行分类，利用的就是它的所包含的信息进行分类。而特征的形式多种多样，可以是二维向量，也可以是三维向量，当然也可以是一维向量。\n",
    "    2.卷积层的原理 & 池化层的原理\n",
    "    参考网址：https://www.imooc.com/wiki/tensorflow/convolutionalneuralnetw.html\n",
    "    \n",
    "    3. 如何在 TensorFlow 之中使用卷积神经网络\n",
    "    3.1. 如何在 TensorFlow 之中使用卷积层在 TensorFlow 之中，使用卷积层的具体 API 为：\n",
    "    "
   ]
  },
  {
   "cell_type": "code",
   "execution_count": null,
   "id": "74ff9c6a",
   "metadata": {},
   "outputs": [],
   "source": [
    "'''\n",
    "其中我们最常用的参数的具体含义包括：\n",
    "\n",
    "    filters：得到特征的通道数量，比如一般 RGB 的通道为 3 ，\n",
    "             我们可以指定 filter 来输出指定通道数量的特征；\n",
    "    kernel_size：卷积核的大小，也就是算子的大小，可以为一个二维元组，\n",
    "             也可以是一个整数（此时卷积核为正方形）；\n",
    "    strides=(1, 1)：卷积核移动的步伐，一般每次向右移动一格，\n",
    "             每行向下移动一格，我们可以手动指定移动的步伐的大小。\n",
    "    padding=‘valid’：是否使用 Padding ，也就是说是否在原来数据的四周再加上一圈数据，\n",
    "             这样可以让原图片的每个像素都在卷积核中央，可以选择为 valid 或者 same ；\n",
    "    dilation_rate=(1, 1)：是否采用空洞卷积，很少使用，只有在扩大视野的时候使用，\n",
    "             这里不再展开描述；\n",
    "    activation=None：激活函数，和我们之前接触的卷积函数一样。\n",
    "'''\n",
    "tf.keras.layers.Conv2D(\n",
    "    filters, kernel_size, strides=(1, 1), padding='valid',\n",
    "    dilation_rate=(1, 1), activation=None, ......)"
   ]
  },
  {
   "cell_type": "raw",
   "id": "769e0e56",
   "metadata": {},
   "source": [
    "2. 如何在 TensorFlow 之中使用池化层\n",
    "在 TensorFlow 之中，使用池化层的具体 API 为："
   ]
  },
  {
   "cell_type": "code",
   "execution_count": null,
   "id": "954d50e4",
   "metadata": {},
   "outputs": [],
   "source": [
    "'''\n",
    "    pool_size: 池化算子的大小，和卷积层的 kernel_size 相似；\n",
    "    strides: 步伐大小，与卷积层的 strides 相同含义；\n",
    "    padding：是否进行填充，可以选择 valid 或者 same 。\n",
    "'''\n",
    "tf.keras.layers.MaxPool2D(\n",
    "    pool_size=(2, 2), strides=None, padding='valid', ...\n",
    ")"
   ]
  },
  {
   "cell_type": "raw",
   "id": "c7e0e68c",
   "metadata": {},
   "source": [
    "    3. 一个具体的卷积神经网络\n",
    "    由于我们在之前学习之中已经采用过卷积神经网络进行训练，因此同学们可以使用之前的数据进行训练，这里只是给出一个简单的网络模型，以及它的结构："
   ]
  },
  {
   "cell_type": "code",
   "execution_count": null,
   "id": "57c681d5",
   "metadata": {},
   "outputs": [],
   "source": [
    "import tensorflow as tf\n",
    "\n",
    "'''\n",
    "在这个模型之中，我们默认输入的图像数据为 32*32 大小，并且拥有三个通道。(input_shape)\n",
    "在该模型之中，我们使用了三个二维卷积层与两个最大池化层，从而达到提取特征的目的。\n",
    "最后我们使用了三个全连接层来进行预测并进行输出。\n",
    "'''\n",
    "model = tf.keras.models.Sequential([\n",
    "        tf.keras.layers.Conv2D(32, (3, 3), activation='relu', input_shape=(32, 32, 3)),\n",
    "        tf.keras.layers.MaxPooling2D((2, 2)),\n",
    "        tf.keras.layers.Conv2D(64, (3, 3), activation='relu'),\n",
    "        tf.keras.layers.MaxPooling2D((2, 2)),\n",
    "        tf.keras.layers.Conv2D(128, (3, 3), activation='relu'),  \n",
    "        tf.keras.layers.Flatten(),\n",
    "        tf.keras.layers.Dense(128, activation='relu'),\n",
    "        tf.keras.layers.Dense(64, activation='relu'),\n",
    "        tf.keras.layers.Dense(10, activation='softmax')])\n",
    "model.summary()"
   ]
  },
  {
   "cell_type": "raw",
   "id": "824f9c1d",
   "metadata": {},
   "source": [
    "_________________________________________________________________\n",
    "Layer (type)                 Output Shape              Param #   \n",
    "=================================================================\n",
    "conv2d_5 (Conv2D)            (None, 30, 30, 32)        896       \n",
    "_________________________________________________________________\n",
    "max_pooling2d_3 (MaxPooling2 (None, 15, 15, 32)        0         \n",
    "_________________________________________________________________\n",
    "conv2d_6 (Conv2D)            (None, 13, 13, 64)        18496     \n",
    "_________________________________________________________________\n",
    "max_pooling2d_4 (MaxPooling2 (None, 6, 6, 64)          0         \n",
    "_________________________________________________________________\n",
    "conv2d_7 (Conv2D)            (None, 4, 4, 128)         73856     \n",
    "_________________________________________________________________\n",
    "flatten_4 (Flatten)          (None, 2048)              0         \n",
    "_________________________________________________________________\n",
    "dense_15 (Dense)             (None, 128)               262272    \n",
    "_________________________________________________________________\n",
    "dense_16 (Dense)             (None, 64)                8256      \n",
    "_________________________________________________________________\n",
    "dense_17 (Dense)             (None, 10)                650       \n",
    "=================================================================\n",
    "Total params: 364,426\n",
    "Trainable params: 364,426\n",
    "Non-trainable params: 0\n",
    "_________________________________________________________________\n"
   ]
  }
 ],
 "metadata": {
  "kernelspec": {
   "display_name": "Python 3 (ipykernel)",
   "language": "python",
   "name": "python3"
  },
  "language_info": {
   "codemirror_mode": {
    "name": "ipython",
    "version": 3
   },
   "file_extension": ".py",
   "mimetype": "text/x-python",
   "name": "python",
   "nbconvert_exporter": "python",
   "pygments_lexer": "ipython3",
   "version": "3.7.13"
  }
 },
 "nbformat": 4,
 "nbformat_minor": 5
}
