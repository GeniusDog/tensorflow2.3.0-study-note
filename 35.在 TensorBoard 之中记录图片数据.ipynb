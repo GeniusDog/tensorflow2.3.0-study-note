{
 "cells": [
  {
   "cell_type": "raw",
   "id": "3c0fdcd6",
   "metadata": {},
   "source": [
    "    在之前的学习之中，我们了解了如何在 TensorBoard 之中查看 Loss 、准确率等指标的变化，也学习了如何在 TensorBoard 之中查看网络模型图。这些数据都是一些文本数据，那么我们能查看一些多媒体数据？答案是可以的，那么我们这节课就来学习一下如何在 TenosrBoard 之中查看图片数据。\n",
    "    1. 查看单张图片\n",
    "    我们在训练的过程之中可能要查看一下数据的基本样式，那么我们便可以使用 TensorBoard 来进行图片的查看工作，这边我们仍然以 Mnist 数据集为例。\n",
    "    首先我们需要导入数据：\n",
    "    import numpy as np\n",
    "    import tensorflow as tf\n",
    "\n",
    "    (x_train, y_train),(x_test, y_test) = tf.keras.datasets.mnist.load_data()\n",
    "\n",
    "    # 比如，我们要查看第一张训练集的图片：\n",
    "    file_writer = tf.summary.create_file_writer(\"logs/images/1\")\n",
    "    img = np.reshape(x_train[0], (1, 28, 28, 1))\n",
    "\n",
    "    # 通过以下 API 来实现图片数据的输出：\n",
    "    with file_writer.as_default():\n",
    "        tf.summary.image(\"First train data\", img, step=0)\n",
    "        \n",
    "    其中第一个参数为名称，也就是图片的标签，第二个参数为图片本身，第三个图片为当前的步数，如果只查看静态图片，那么设置为 step=0 就看足够了。s"
   ]
  },
  {
   "cell_type": "raw",
   "id": "f9371342",
   "metadata": {},
   "source": [
    "2. 查看多张图片 https://www.imooc.com/wiki/tensorflow/picturedata.html\n",
    "    3. 自定义生成图片\n",
    "    在前面的学习之中，我们能输入的图片都是内置的图片或者数据集的图片。那么我们在这一小节便来学习一下如何将自己绘制的图片输入到 TensorBoard 之中。\n",
    "    这里涉及到一定的绘图知识，因此我们不会绘制过于复杂的图片，我们会绘制一张简单的图片，然后将其输出到 TensorBoard 之中。\n",
    "    首先我们要绘制出一张我们自定义的图片："
   ]
  },
  {
   "cell_type": "code",
   "execution_count": null,
   "id": "56101575",
   "metadata": {},
   "outputs": [],
   "source": [
    "import matplotlib.pyplot as plt\n",
    "import io\n",
    "\n",
    "figure = plt.figure()\n",
    "\n",
    "# 绘图\n",
    "x = [1, 2, 3, 4]\n",
    "y = [1.2, 2.5, 4.5, 7.5]\n",
    "plt.plot(x, y)\n",
    "\n",
    "# 在这张图片之中，我们简单地绘制了一条线段。然后我们便可以将其保存为 PNG 格式：\n",
    "# 定义缓存区\n",
    "buf = io.BytesIO()\n",
    "# 保存为png图片\n",
    "plt.savefig(buf, format='png')\n",
    "\n",
    "# 关闭画布\n",
    "plt.close(figure)\n",
    "buf.seek(0)\n",
    "\n",
    "# 然后我们将保存好的png图片转化为TensorFlow的图片格式：\n",
    "# 转化为TensorFlow的图片格式\n",
    "image = tf.image.decode_png(buf.getvalue(), channels=4)\n",
    "# 增添一维数据，表示Batch\n",
    "image = tf.expand_dims(image, 0)\n",
    "\n",
    "# 最后我们便可以将图片输出到 TensorBoard 日志：\n",
    "with file_writer.as_default():\n",
    "  tf.summary.image(\"Own Image\", image, step=0)\n"
   ]
  }
 ],
 "metadata": {
  "kernelspec": {
   "display_name": "Python 3 (ipykernel)",
   "language": "python",
   "name": "python3"
  },
  "language_info": {
   "codemirror_mode": {
    "name": "ipython",
    "version": 3
   },
   "file_extension": ".py",
   "mimetype": "text/x-python",
   "name": "python",
   "nbconvert_exporter": "python",
   "pygments_lexer": "ipython3",
   "version": "3.7.13"
  }
 },
 "nbformat": 4,
 "nbformat_minor": 5
}
