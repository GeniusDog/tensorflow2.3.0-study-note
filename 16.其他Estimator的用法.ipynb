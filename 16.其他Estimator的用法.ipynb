{
 "cells": [
  {
   "cell_type": "raw",
   "id": "33353447",
   "metadata": {},
   "source": [
    "1.将 Keras 模型转化为 Estimator 模型\n",
    "https://www.imooc.com/wiki/tensorflow/kerastoestimator.html\n",
    "\n",
    "2.使用 Estimator 实现 Boosting Tree 模型\n",
    "https://www.imooc.com/wiki/tensorflow/boostingtree.html"
   ]
  }
 ],
 "metadata": {
  "kernelspec": {
   "display_name": "Python 3 (ipykernel)",
   "language": "python",
   "name": "python3"
  },
  "language_info": {
   "codemirror_mode": {
    "name": "ipython",
    "version": 3
   },
   "file_extension": ".py",
   "mimetype": "text/x-python",
   "name": "python",
   "nbconvert_exporter": "python",
   "pygments_lexer": "ipython3",
   "version": "3.7.13"
  }
 },
 "nbformat": 4,
 "nbformat_minor": 5
}
