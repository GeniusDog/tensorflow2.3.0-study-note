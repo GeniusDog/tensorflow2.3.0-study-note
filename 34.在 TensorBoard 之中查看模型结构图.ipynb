{
 "cells": [
  {
   "cell_type": "raw",
   "id": "6dd39cb0",
   "metadata": {},
   "source": [
    "    在之前的学习过程之中，我们学习了如何自定义查看训练过程之中的各项指标。在实际的应用过程之中，为了保证模型构建的准确性，我们也会经常查看网络的模型结构图。那么这节课我们就来看一下如何在 TensorBoard 之中查看模型图。\n",
    "    1. 如何在 TensorBoard 之中生成 Keras 模型结构图\n",
    "倘若我们通过 tf.keras API 来自定义了一个网络模型，那么我们在 TensorBoard 来查看模型图是非常简单的一件事情。\n",
    "    当我们使用 tf.keras 的模型的 fit() 方法的时候，框架会自动帮我们绘制模型结构图。"
   ]
  },
  {
   "cell_type": "code",
   "execution_count": 1,
   "id": "e0521c7c",
   "metadata": {},
   "outputs": [
    {
     "name": "stdout",
     "output_type": "stream",
     "text": [
      "Downloading data from https://storage.googleapis.com/tensorflow/tf-keras-datasets/mnist.npz\n",
      "11493376/11490434 [==============================] - 2s 0us/step\n"
     ]
    }
   ],
   "source": [
    "# 首先我们定义模型、数据与相应的参数。\n",
    "import tensorflow as tf\n",
    "\n",
    "(x_train, y_train),(x_test, y_test) = tf.keras.datasets.mnist.load_data()\n",
    "\n",
    "x_train, x_test = x_train / 255.0, x_test / 255.0\n",
    "\n",
    "def create_model():\n",
    "  return tf.keras.models.Sequential([\n",
    "    tf.keras.layers.Flatten(input_shape=(28, 28)),\n",
    "    tf.keras.layers.Dense(256, activation='relu'),\n",
    "    tf.keras.layers.Dense(10, activation='softmax')\n",
    "  ])\n",
    "\n",
    "model = create_model()\n",
    "model.compile(optimizer='adam',\n",
    "              loss='sparse_categorical_crossentropy',\n",
    "              metrics=[])\n",
    "\n",
    "# 然后我们定义相应的 TensorBoard 日志目录，同时对模型使用 fit() 进行训练：\n",
    "tensorboard_callback = tf.keras.callbacks.TensorBoard(log_dir='./logs')\n",
    "\n",
    "model.fit(x=x_train, y=y_train, \n",
    "          epochs=3, \n",
    "          validation_data=(x_test, y_test), \n",
    "          callbacks=[tensorboard_callback])\n"
   ]
  },
  {
   "cell_type": "raw",
   "id": "2988e48e",
   "metadata": {},
   "source": [
    "最后我们就可以打开 TensorBoard 并在浏览器查看：tensorboard --logdir logs\n"
   ]
  },
  {
   "cell_type": "code",
   "execution_count": 2,
   "id": "f5526665",
   "metadata": {},
   "outputs": [
    {
     "ename": "SyntaxError",
     "evalue": "invalid syntax (2505290755.py, line 1)",
     "output_type": "error",
     "traceback": [
      "\u001b[1;36m  File \u001b[1;32m\"C:\\Users\\dog\\AppData\\Local\\Temp\\ipykernel_199076\\2505290755.py\"\u001b[1;36m, line \u001b[1;32m1\u001b[0m\n\u001b[1;33m    tensorboard --logdir logs\u001b[0m\n\u001b[1;37m                            ^\u001b[0m\n\u001b[1;31mSyntaxError\u001b[0m\u001b[1;31m:\u001b[0m invalid syntax\n"
     ]
    }
   ],
   "source": [
    "tensorboard --logdir logs"
   ]
  },
  {
   "cell_type": "markdown",
   "id": "904dae72",
   "metadata": {},
   "source": [
    "## 2. 如何在 TensorBoard 之中生成使用 tf.function 函数定义的图(这个很实用)\n",
    "    在实际的应用过程之中，有很多的情况下，我们需要使用 tf.function 来加速模型的速度并自定义训练过程。那么这个时候我们要如何才能查看网络的模型结构图呢？\n",
    "    其实也很简单，我们只需经过如下几个步骤：\n",
    "    a.确保 tf.function 函数修饰了我们需要进行可视化的操作，这边就是模型的过程；\n",
    "    b.创建一个 TensorBoard 的日志写入器 tf.summary.create_file_writer() ；\n",
    "    c.通过 tf.summary.trace_on() API 进行变量路径的追踪；\n",
    "    d,执行我们需要可视化的操作；\n",
    "    e.使用 tf.summary.trace_export() API 将图写入日志。\n",
    "    在这里，我们可以使用一个很简单的例子来查看操作的结构："
   ]
  },
  {
   "cell_type": "code",
   "execution_count": null,
   "id": "b09eceeb",
   "metadata": {},
   "outputs": [],
   "source": [
    "\n",
    "# 定义网络的操作\n",
    "@tf.function\n",
    "def test_func(x, y):\n",
    "  z = tf.matmul(x, y)\n",
    "  z = z * 5.0\n",
    "  z = tf.nn.relu(z)\n",
    "  return z\n",
    "\n",
    "# 创建写入器\n",
    "writer = tf.summary.create_file_writer('./logs/3')\n",
    "\n",
    "# 创建初试数据\n",
    "x = tf.random.uniform((5, 5))\n",
    "y = tf.random.uniform((5, 5))\n",
    "\n",
    "# 开启变量追踪\n",
    "tf.summary.trace_on(graph=True, profiler=True)\n",
    "\n",
    "# 运行程序\n",
    "z = test_func(x, y)\n",
    "\n",
    "# 将日志输出\n",
    "with writer.as_default():\n",
    "  tf.summary.trace_export(\n",
    "      name=\"test_func_graph\",\n",
    "      step=1,\n",
    "      profiler_outdir='./logs/3')\n"
   ]
  },
  {
   "cell_type": "raw",
   "id": "a0abdf23",
   "metadata": {},
   "source": [
    "    在这里，我们首先定义了一个基本的模型操作，该模型操作由一个矩阵乘法、一个常量乘法、外加一个 Relu 激活层组成。\n",
    "    在运行完操作之后，我们便使用 tf.summary.trace_export() API 来将模型图输入道日志之中。\n",
    "\n",
    "    然后我们便可以在浏览器之中查看到相应的模型图.\n",
    "\n",
    "3. TensorBoard 之中基本、基本的操作\n",
    "https://www.imooc.com/wiki/tensorflow/modelstructurediagram.html"
   ]
  }
 ],
 "metadata": {
  "kernelspec": {
   "display_name": "Python 3 (ipykernel)",
   "language": "python",
   "name": "python3"
  },
  "language_info": {
   "codemirror_mode": {
    "name": "ipython",
    "version": 3
   },
   "file_extension": ".py",
   "mimetype": "text/x-python",
   "name": "python",
   "nbconvert_exporter": "python",
   "pygments_lexer": "ipython3",
   "version": "3.7.13"
  }
 },
 "nbformat": 4,
 "nbformat_minor": 5
}
